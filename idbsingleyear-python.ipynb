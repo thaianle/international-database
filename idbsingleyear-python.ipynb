{
 "cells": [
  {
   "cell_type": "markdown",
   "id": "c97e4568-d56e-4662-8839-c0a54f74a2a9",
   "metadata": {},
   "source": [
    "# Data Analysis Project with Python\n",
    "\n",
    "# International Database (United States Census Bureau) - Single Year"
   ]
  },
  {
   "cell_type": "code",
   "execution_count": 1,
   "id": "e8911f83-144f-478d-95a6-3889fb2834bb",
   "metadata": {},
   "outputs": [],
   "source": [
    "# Import the necessary libraries\n",
    "import numpy as np\n",
    "import pandas as pd\n",
    "import matplotlib.pyplot as plt\n",
    "import seaborn as sns"
   ]
  },
  {
   "cell_type": "markdown",
   "id": "6822a1ff-00b3-495f-bdee-17ccc0d60831",
   "metadata": {},
   "source": [
    "## Exploring the IDB Single Year database"
   ]
  },
  {
   "cell_type": "markdown",
   "id": "0eb6edc0-6e71-41dd-a285-bf43ce1e3ef8",
   "metadata": {},
   "source": [
    "Variable descriptions: https://api.census.gov/data/timeseries/idb/1year/variables.html"
   ]
  },
  {
   "cell_type": "code",
   "execution_count": 2,
   "id": "3129b8ae-503a-4cc9-be93-ee4d01be10f0",
   "metadata": {},
   "outputs": [
    {
     "data": {
      "text/html": [
       "<div>\n",
       "<style scoped>\n",
       "    .dataframe tbody tr th:only-of-type {\n",
       "        vertical-align: middle;\n",
       "    }\n",
       "\n",
       "    .dataframe tbody tr th {\n",
       "        vertical-align: top;\n",
       "    }\n",
       "\n",
       "    .dataframe thead th {\n",
       "        text-align: right;\n",
       "    }\n",
       "</style>\n",
       "<table border=\"1\" class=\"dataframe\">\n",
       "  <thead>\n",
       "    <tr style=\"text-align: right;\">\n",
       "      <th></th>\n",
       "      <th>#YR</th>\n",
       "      <th>GEO_ID</th>\n",
       "      <th>AGE</th>\n",
       "      <th>SEX</th>\n",
       "      <th>POP</th>\n",
       "    </tr>\n",
       "  </thead>\n",
       "  <tbody>\n",
       "    <tr>\n",
       "      <th>0</th>\n",
       "      <td>1990</td>\n",
       "      <td>W140000WOAD</td>\n",
       "      <td>0</td>\n",
       "      <td>0</td>\n",
       "      <td>504</td>\n",
       "    </tr>\n",
       "    <tr>\n",
       "      <th>1</th>\n",
       "      <td>1990</td>\n",
       "      <td>W140000WOAD</td>\n",
       "      <td>0</td>\n",
       "      <td>1</td>\n",
       "      <td>264</td>\n",
       "    </tr>\n",
       "    <tr>\n",
       "      <th>2</th>\n",
       "      <td>1990</td>\n",
       "      <td>W140000WOAD</td>\n",
       "      <td>0</td>\n",
       "      <td>2</td>\n",
       "      <td>240</td>\n",
       "    </tr>\n",
       "    <tr>\n",
       "      <th>3</th>\n",
       "      <td>1990</td>\n",
       "      <td>W140000WOAD</td>\n",
       "      <td>1</td>\n",
       "      <td>0</td>\n",
       "      <td>550</td>\n",
       "    </tr>\n",
       "    <tr>\n",
       "      <th>4</th>\n",
       "      <td>1990</td>\n",
       "      <td>W140000WOAD</td>\n",
       "      <td>1</td>\n",
       "      <td>1</td>\n",
       "      <td>279</td>\n",
       "    </tr>\n",
       "    <tr>\n",
       "      <th>5</th>\n",
       "      <td>1990</td>\n",
       "      <td>W140000WOAD</td>\n",
       "      <td>1</td>\n",
       "      <td>2</td>\n",
       "      <td>271</td>\n",
       "    </tr>\n",
       "    <tr>\n",
       "      <th>6</th>\n",
       "      <td>1990</td>\n",
       "      <td>W140000WOAD</td>\n",
       "      <td>2</td>\n",
       "      <td>0</td>\n",
       "      <td>489</td>\n",
       "    </tr>\n",
       "    <tr>\n",
       "      <th>7</th>\n",
       "      <td>1990</td>\n",
       "      <td>W140000WOAD</td>\n",
       "      <td>2</td>\n",
       "      <td>1</td>\n",
       "      <td>260</td>\n",
       "    </tr>\n",
       "    <tr>\n",
       "      <th>8</th>\n",
       "      <td>1990</td>\n",
       "      <td>W140000WOAD</td>\n",
       "      <td>2</td>\n",
       "      <td>2</td>\n",
       "      <td>229</td>\n",
       "    </tr>\n",
       "    <tr>\n",
       "      <th>9</th>\n",
       "      <td>1990</td>\n",
       "      <td>W140000WOAD</td>\n",
       "      <td>3</td>\n",
       "      <td>0</td>\n",
       "      <td>515</td>\n",
       "    </tr>\n",
       "  </tbody>\n",
       "</table>\n",
       "</div>"
      ],
      "text/plain": [
       "    #YR       GEO_ID  AGE  SEX  POP\n",
       "0  1990  W140000WOAD    0    0  504\n",
       "1  1990  W140000WOAD    0    1  264\n",
       "2  1990  W140000WOAD    0    2  240\n",
       "3  1990  W140000WOAD    1    0  550\n",
       "4  1990  W140000WOAD    1    1  279\n",
       "5  1990  W140000WOAD    1    2  271\n",
       "6  1990  W140000WOAD    2    0  489\n",
       "7  1990  W140000WOAD    2    1  260\n",
       "8  1990  W140000WOAD    2    2  229\n",
       "9  1990  W140000WOAD    3    0  515"
      ]
     },
     "execution_count": 2,
     "metadata": {},
     "output_type": "execute_result"
    }
   ],
   "source": [
    "idbsingleyear = pd.read_table(\"idbzip/idbsingleyear.txt\", delimiter=\"|\")\n",
    "idbsingleyear.head(10)"
   ]
  },
  {
   "cell_type": "code",
   "execution_count": 3,
   "id": "ddc74d73-99d2-48db-9bf2-ec0631b0d860",
   "metadata": {},
   "outputs": [
    {
     "data": {
      "text/plain": [
       "(7923753, 5)"
      ]
     },
     "execution_count": 3,
     "metadata": {},
     "output_type": "execute_result"
    }
   ],
   "source": [
    "# Dimensions (number of rows and columns)\n",
    "idbsingleyear.shape"
   ]
  },
  {
   "cell_type": "code",
   "execution_count": 4,
   "id": "69831b9a-468f-4f11-a476-78837f8a0cc5",
   "metadata": {},
   "outputs": [
    {
     "name": "stdout",
     "output_type": "stream",
     "text": [
      "<class 'pandas.core.frame.DataFrame'>\n",
      "RangeIndex: 7923753 entries, 0 to 7923752\n",
      "Data columns (total 5 columns):\n",
      " #   Column  Dtype \n",
      "---  ------  ----- \n",
      " 0   #YR     int64 \n",
      " 1   GEO_ID  object\n",
      " 2   AGE     int64 \n",
      " 3   SEX     int64 \n",
      " 4   POP     int64 \n",
      "dtypes: int64(4), object(1)\n",
      "memory usage: 302.3+ MB\n"
     ]
    }
   ],
   "source": [
    "# Check for data types and other essential information\n",
    "idbsingleyear.info()"
   ]
  },
  {
   "cell_type": "code",
   "execution_count": 5,
   "id": "18bb1525-635d-46f5-b4b5-ba770e6a20f1",
   "metadata": {},
   "outputs": [
    {
     "data": {
      "text/html": [
       "<div>\n",
       "<style scoped>\n",
       "    .dataframe tbody tr th:only-of-type {\n",
       "        vertical-align: middle;\n",
       "    }\n",
       "\n",
       "    .dataframe tbody tr th {\n",
       "        vertical-align: top;\n",
       "    }\n",
       "\n",
       "    .dataframe thead th {\n",
       "        text-align: right;\n",
       "    }\n",
       "</style>\n",
       "<table border=\"1\" class=\"dataframe\">\n",
       "  <thead>\n",
       "    <tr style=\"text-align: right;\">\n",
       "      <th></th>\n",
       "      <th>#YR</th>\n",
       "      <th>AGE</th>\n",
       "      <th>SEX</th>\n",
       "      <th>POP</th>\n",
       "    </tr>\n",
       "  </thead>\n",
       "  <tbody>\n",
       "    <tr>\n",
       "      <th>count</th>\n",
       "      <td>7.923753e+06</td>\n",
       "      <td>7.923753e+06</td>\n",
       "      <td>7.923753e+06</td>\n",
       "      <td>7.923753e+06</td>\n",
       "    </tr>\n",
       "    <tr>\n",
       "      <th>mean</th>\n",
       "      <td>2.042538e+03</td>\n",
       "      <td>5.000000e+01</td>\n",
       "      <td>1.000000e+00</td>\n",
       "      <td>2.526350e+05</td>\n",
       "    </tr>\n",
       "    <tr>\n",
       "      <th>std</th>\n",
       "      <td>3.389533e+01</td>\n",
       "      <td>2.915476e+01</td>\n",
       "      <td>8.164966e-01</td>\n",
       "      <td>1.087511e+06</td>\n",
       "    </tr>\n",
       "    <tr>\n",
       "      <th>min</th>\n",
       "      <td>1.950000e+03</td>\n",
       "      <td>0.000000e+00</td>\n",
       "      <td>0.000000e+00</td>\n",
       "      <td>0.000000e+00</td>\n",
       "    </tr>\n",
       "    <tr>\n",
       "      <th>25%</th>\n",
       "      <td>2.014000e+03</td>\n",
       "      <td>2.500000e+01</td>\n",
       "      <td>0.000000e+00</td>\n",
       "      <td>1.469000e+03</td>\n",
       "    </tr>\n",
       "    <tr>\n",
       "      <th>50%</th>\n",
       "      <td>2.043000e+03</td>\n",
       "      <td>5.000000e+01</td>\n",
       "      <td>1.000000e+00</td>\n",
       "      <td>2.403200e+04</td>\n",
       "    </tr>\n",
       "    <tr>\n",
       "      <th>75%</th>\n",
       "      <td>2.072000e+03</td>\n",
       "      <td>7.500000e+01</td>\n",
       "      <td>2.000000e+00</td>\n",
       "      <td>1.342220e+05</td>\n",
       "    </tr>\n",
       "    <tr>\n",
       "      <th>max</th>\n",
       "      <td>2.100000e+03</td>\n",
       "      <td>1.000000e+02</td>\n",
       "      <td>2.000000e+00</td>\n",
       "      <td>3.063062e+07</td>\n",
       "    </tr>\n",
       "  </tbody>\n",
       "</table>\n",
       "</div>"
      ],
      "text/plain": [
       "                #YR           AGE           SEX           POP\n",
       "count  7.923753e+06  7.923753e+06  7.923753e+06  7.923753e+06\n",
       "mean   2.042538e+03  5.000000e+01  1.000000e+00  2.526350e+05\n",
       "std    3.389533e+01  2.915476e+01  8.164966e-01  1.087511e+06\n",
       "min    1.950000e+03  0.000000e+00  0.000000e+00  0.000000e+00\n",
       "25%    2.014000e+03  2.500000e+01  0.000000e+00  1.469000e+03\n",
       "50%    2.043000e+03  5.000000e+01  1.000000e+00  2.403200e+04\n",
       "75%    2.072000e+03  7.500000e+01  2.000000e+00  1.342220e+05\n",
       "max    2.100000e+03  1.000000e+02  2.000000e+00  3.063062e+07"
      ]
     },
     "execution_count": 5,
     "metadata": {},
     "output_type": "execute_result"
    }
   ],
   "source": [
    "# Describe the numerical columns\n",
    "idbsingleyear.describe()"
   ]
  },
  {
   "cell_type": "code",
   "execution_count": 6,
   "id": "eb02e462-fb93-49c2-86d0-78ef34496ca7",
   "metadata": {},
   "outputs": [
    {
     "name": "stdout",
     "output_type": "stream",
     "text": [
      "Number of unique values in the column #YR is: 151\n",
      "Number of NaN values in the column #YR is: 0\n",
      "\n",
      "Number of unique values in the column GEO_ID is: 227\n",
      "Number of NaN values in the column GEO_ID is: 0\n",
      "\n",
      "Number of unique values in the column AGE is: 101\n",
      "Number of NaN values in the column AGE is: 0\n",
      "\n",
      "Number of unique values in the column SEX is: 3\n",
      "Number of NaN values in the column SEX is: 0\n",
      "\n",
      "Number of unique values in the column POP is: 1095125\n",
      "Number of NaN values in the column POP is: 0\n",
      "\n"
     ]
    }
   ],
   "source": [
    "# Count the number of unique values in a column\n",
    "for col in idbsingleyear:\n",
    "    print(f'Number of unique values in the column {col} is: {idbsingleyear[col].nunique()}')\n",
    "    print(f'Number of NaN values in the column {col} is: {idbsingleyear[col].isna().sum()}')\n",
    "    print('')"
   ]
  },
  {
   "cell_type": "code",
   "execution_count": 7,
   "id": "d269bd92-0e38-45f0-90c4-65f8d112ad39",
   "metadata": {},
   "outputs": [
    {
     "data": {
      "text/plain": [
       "array(['W140000WOAD', 'W140000WOAE', 'W140000WOAF', 'W140000WOAG',\n",
       "       'W140000WOAI', 'W140000WOAL', 'W140000WOAM', 'W140000WOAO',\n",
       "       'W140000WOAR', 'W140000WOAS', 'W140000WOAT', 'W140000WOAU',\n",
       "       'W140000WOAW', 'W140000WOAZ', 'W140000WOBA', 'W140000WOBB',\n",
       "       'W140000WOBD', 'W140000WOBE', 'W140000WOBF', 'W140000WOBG'],\n",
       "      dtype=object)"
      ]
     },
     "execution_count": 7,
     "metadata": {},
     "output_type": "execute_result"
    }
   ],
   "source": [
    "# Show the first 20 unique values of the GEO_ID\n",
    "idbsingleyear['GEO_ID'].unique()[:20]"
   ]
  },
  {
   "cell_type": "markdown",
   "id": "d10fcba3-fe56-4260-b64a-138ddf04c1bc",
   "metadata": {},
   "source": [
    "It seems like the GEO_IDs are quite similar; most of them starting with 'W140000WO' and then two distinctive letters.\n",
    "\n",
    "After doing outside research, I think the two distinctive letters are the two-letter country codes listed in this website: https://www.census.gov/programs-surveys/international-programs/about/idb/countries-and-areas.html"
   ]
  },
  {
   "cell_type": "code",
   "execution_count": 8,
   "id": "036ca7a1-ab46-485b-abfa-9e5f5a30658f",
   "metadata": {},
   "outputs": [
    {
     "name": "stdout",
     "output_type": "stream",
     "text": [
      "True\n"
     ]
    }
   ],
   "source": [
    "# Check if every GEO_ID starts with 'W140000WO':\n",
    "for row in idbsingleyear['GEO_ID']:\n",
    "    if (not row.startswith('W140000WO')):\n",
    "        result = False\n",
    "        break\n",
    "    else:\n",
    "        result = True\n",
    "print(result)"
   ]
  },
  {
   "cell_type": "markdown",
   "id": "308e252a-1007-4bbd-b267-4dad2656962d",
   "metadata": {},
   "source": [
    "After checking all elements in the GEO_ID column with Python, my intuition is actually true."
   ]
  },
  {
   "cell_type": "markdown",
   "id": "4e4397be-a2cf-4fef-84d4-6241235005aa",
   "metadata": {},
   "source": [
    "## Analyzing the IDB Single Year database"
   ]
  },
  {
   "cell_type": "markdown",
   "id": "64b8798e-3dfa-4ec9-a03a-c1d8c65508b5",
   "metadata": {},
   "source": [
    "1. Finding countries with the largest and the smallest population in 2023 (for both sexes)\n",
    "(Because the data is most recently updated in November 2024, I choose 2023 as the latest year when data for a full year is available.)"
   ]
  },
  {
   "cell_type": "code",
   "execution_count": 9,
   "id": "f169cb32-e2ad-401b-9288-43827cafbe46",
   "metadata": {},
   "outputs": [],
   "source": [
    "# Filter for total population of each country in 2023 (both sexes) for each age\n",
    "pop_2023 = (idbsingleyear['#YR'] == 2023) & (idbsingleyear['SEX'] == 0)\n",
    "idbsingleyear_2023 = idbsingleyear[pop_2023]\n",
    "\n",
    "# Summing the population of different ages\n",
    "idbsingleyear_2023 = idbsingleyear_2023.groupby(['#YR', 'GEO_ID']).sum()\n",
    "# Using groupby, we have set #YR and GEO_ID as the index of idbsingleyear_2023\n",
    "\n",
    "# Only display the population column, not the total age column\n",
    "idbsingleyear_2023 = idbsingleyear_2023[['POP']]"
   ]
  },
  {
   "cell_type": "code",
   "execution_count": 10,
   "id": "42052a4e-f48c-4a0d-a9dd-5ae093b1201f",
   "metadata": {},
   "outputs": [
    {
     "data": {
      "text/html": [
       "<div>\n",
       "<style scoped>\n",
       "    .dataframe tbody tr th:only-of-type {\n",
       "        vertical-align: middle;\n",
       "    }\n",
       "\n",
       "    .dataframe tbody tr th {\n",
       "        vertical-align: top;\n",
       "    }\n",
       "\n",
       "    .dataframe thead th {\n",
       "        text-align: right;\n",
       "    }\n",
       "</style>\n",
       "<table border=\"1\" class=\"dataframe\">\n",
       "  <thead>\n",
       "    <tr style=\"text-align: right;\">\n",
       "      <th></th>\n",
       "      <th></th>\n",
       "      <th>POP</th>\n",
       "    </tr>\n",
       "    <tr>\n",
       "      <th>#YR</th>\n",
       "      <th>GEO_ID</th>\n",
       "      <th></th>\n",
       "    </tr>\n",
       "  </thead>\n",
       "  <tbody>\n",
       "    <tr>\n",
       "      <th rowspan=\"5\" valign=\"top\">2023</th>\n",
       "      <th>W140000WOCN</th>\n",
       "      <td>1409294306</td>\n",
       "    </tr>\n",
       "    <tr>\n",
       "      <th>W140000WOIN</th>\n",
       "      <td>1399179585</td>\n",
       "    </tr>\n",
       "    <tr>\n",
       "      <th>W140000WOUS</th>\n",
       "      <td>334914895</td>\n",
       "    </tr>\n",
       "    <tr>\n",
       "      <th>W140000WOID</th>\n",
       "      <td>279476346</td>\n",
       "    </tr>\n",
       "    <tr>\n",
       "      <th>W140000WOPK</th>\n",
       "      <td>247653551</td>\n",
       "    </tr>\n",
       "  </tbody>\n",
       "</table>\n",
       "</div>"
      ],
      "text/plain": [
       "                         POP\n",
       "#YR  GEO_ID                 \n",
       "2023 W140000WOCN  1409294306\n",
       "     W140000WOIN  1399179585\n",
       "     W140000WOUS   334914895\n",
       "     W140000WOID   279476346\n",
       "     W140000WOPK   247653551"
      ]
     },
     "execution_count": 10,
     "metadata": {},
     "output_type": "execute_result"
    }
   ],
   "source": [
    "# Sort in the descending order\n",
    "idbsingleyear_2023_largest = idbsingleyear_2023.sort_values('POP', ascending = False)\n",
    "idbsingleyear_2023_largest = idbsingleyear_2023_largest.head(5)\n",
    "\n",
    "# Show the results\n",
    "idbsingleyear_2023_largest"
   ]
  },
  {
   "cell_type": "markdown",
   "id": "b17cab93-2632-45ca-873d-68514b98d402",
   "metadata": {},
   "source": [
    "According to the country codes for IDB, the top 5 countries with the largest population in 2023 from the dataset is: China (CN), India (IN), United States (US), Indonesia (ID), and Pakistan (PK)."
   ]
  },
  {
   "cell_type": "code",
   "execution_count": 11,
   "id": "26fa8dc9-064e-4134-b9ab-f978abc58444",
   "metadata": {},
   "outputs": [
    {
     "data": {
      "text/plain": [
       "Text(0.5, 1.05, 'Top 5 countries/ territories with largest population')"
      ]
     },
     "execution_count": 11,
     "metadata": {},
     "output_type": "execute_result"
    },
    {
     "data": {
      "image/png": "[encoded data removed]",
      "text/plain": [
       "<Figure size 761.111x500 with 1 Axes>"
      ]
     },
     "metadata": {},
     "output_type": "display_data"
    }
   ],
   "source": [
    "# Plotting the countries with largest population as a bar chart\n",
    "largest_pop = sns.catplot(data = idbsingleyear_2023_largest, x = 'GEO_ID', y = 'POP', kind = 'bar', aspect = 1.5)\n",
    "# Set the \"aspect\" parameter to have proper spacing between bars\n",
    "\n",
    "largest_pop.set_axis_labels('Country/Territory', 'Population (in billions)')\n",
    "largest_pop.set_xticklabels(['China', 'India', 'United States', 'Indonesia', 'Pakistan'])\n",
    "largest_pop.fig.suptitle('Top 5 countries/ territories with largest population', y = 1.05)\n",
    "# I set y = 1.05 to move the title up above the original graph"
   ]
  },
  {
   "cell_type": "code",
   "execution_count": 12,
   "id": "d236428c-8204-44e2-babf-e6bea86a72b3",
   "metadata": {},
   "outputs": [],
   "source": [
    "# Sort in the ascending order\n",
    "idbsingleyear_2023_smallest = idbsingleyear_2023.sort_values('POP', ascending = True)\n",
    "idbsingleyear_2023_smallest = idbsingleyear_2023_smallest.head(5)"
   ]
  },
  {
   "cell_type": "markdown",
   "id": "523e3067-077c-49f6-bb7e-74b86d9f8108",
   "metadata": {},
   "source": [
    "According to the country codes for IDB, the top 5 countries (or territories?) with the smallest population in 2023 from the dataset is: Saint Pierre and Miquelon (PM), Montserrat (MS), Saint Barthelemy (BL), Saint Helena, Ascension, and Tristan da Cunha (SH), and Cook Islands (CK)."
   ]
  },
  {
   "cell_type": "code",
   "execution_count": 13,
   "id": "0887068e",
   "metadata": {},
   "outputs": [
    {
     "data": {
      "text/plain": [
       "Text(0.5, 1.05, 'Top 5 countries/ territories with smallest population')"
      ]
     },
     "execution_count": 13,
     "metadata": {},
     "output_type": "execute_result"
    },
    {
     "data": {
      "image/png": "[encoded data removed]",
      "text/plain": [
       "<Figure size 1011.11x500 with 1 Axes>"
      ]
     },
     "metadata": {},
     "output_type": "display_data"
    }
   ],
   "source": [
    "# Plotting territories with smallest population as a bar chart - same method as the previous part\n",
    "smallest_pop = sns.catplot(data = idbsingleyear_2023_smallest, x = 'GEO_ID', y = 'POP', kind = 'bar', aspect = 2)\n",
    "\n",
    "smallest_pop.set_axis_labels('Country/Territory', 'Population')\n",
    "smallest_pop.set_xticklabels(['Saint Pierre and Miquelon', 'Montserrat', 'Saint Barthelemy', 'Saint Helena, A&TdC', 'Cook Islands'])\n",
    "# I have to use abbreviations because the territory's name is very long\n",
    "smallest_pop.fig.suptitle('Top 5 countries/ territories with smallest population', y = 1.05)"
   ]
  },
  {
   "cell_type": "markdown",
   "id": "213d3d50",
   "metadata": {},
   "source": [
    "2. Drilling down to analyze the change in population of a single country (This time, I choose Vietnam, my country of origin.)"
   ]
  },
  {
   "cell_type": "code",
   "execution_count": 14,
   "id": "8c0f4779",
   "metadata": {},
   "outputs": [
    {
     "data": {
      "text/html": [
       "<div>\n",
       "<style scoped>\n",
       "    .dataframe tbody tr th:only-of-type {\n",
       "        vertical-align: middle;\n",
       "    }\n",
       "\n",
       "    .dataframe tbody tr th {\n",
       "        vertical-align: top;\n",
       "    }\n",
       "\n",
       "    .dataframe thead th {\n",
       "        text-align: right;\n",
       "    }\n",
       "</style>\n",
       "<table border=\"1\" class=\"dataframe\">\n",
       "  <thead>\n",
       "    <tr style=\"text-align: right;\">\n",
       "      <th></th>\n",
       "      <th></th>\n",
       "      <th></th>\n",
       "      <th>POP</th>\n",
       "    </tr>\n",
       "    <tr>\n",
       "      <th>#YR</th>\n",
       "      <th>GEO_ID</th>\n",
       "      <th>SEX</th>\n",
       "      <th></th>\n",
       "    </tr>\n",
       "  </thead>\n",
       "  <tbody>\n",
       "    <tr>\n",
       "      <th rowspan=\"3\" valign=\"top\">1989</th>\n",
       "      <th rowspan=\"3\" valign=\"top\">W140000WOVN</th>\n",
       "      <th>0</th>\n",
       "      <td>65868481</td>\n",
       "    </tr>\n",
       "    <tr>\n",
       "      <th>1</th>\n",
       "      <td>32240059</td>\n",
       "    </tr>\n",
       "    <tr>\n",
       "      <th>2</th>\n",
       "      <td>33628422</td>\n",
       "    </tr>\n",
       "    <tr>\n",
       "      <th rowspan=\"3\" valign=\"top\">1990</th>\n",
       "      <th rowspan=\"3\" valign=\"top\">W140000WOVN</th>\n",
       "      <th>0</th>\n",
       "      <td>67265921</td>\n",
       "    </tr>\n",
       "    <tr>\n",
       "      <th>1</th>\n",
       "      <td>32950764</td>\n",
       "    </tr>\n",
       "    <tr>\n",
       "      <th>2</th>\n",
       "      <td>34315157</td>\n",
       "    </tr>\n",
       "    <tr>\n",
       "      <th rowspan=\"3\" valign=\"top\">1991</th>\n",
       "      <th rowspan=\"3\" valign=\"top\">W140000WOVN</th>\n",
       "      <th>0</th>\n",
       "      <td>68657380</td>\n",
       "    </tr>\n",
       "    <tr>\n",
       "      <th>1</th>\n",
       "      <td>33659775</td>\n",
       "    </tr>\n",
       "    <tr>\n",
       "      <th>2</th>\n",
       "      <td>34997605</td>\n",
       "    </tr>\n",
       "    <tr>\n",
       "      <th>1992</th>\n",
       "      <th>W140000WOVN</th>\n",
       "      <th>0</th>\n",
       "      <td>70014147</td>\n",
       "    </tr>\n",
       "  </tbody>\n",
       "</table>\n",
       "</div>"
      ],
      "text/plain": [
       "                           POP\n",
       "#YR  GEO_ID      SEX          \n",
       "1989 W140000WOVN 0    65868481\n",
       "                 1    32240059\n",
       "                 2    33628422\n",
       "1990 W140000WOVN 0    67265921\n",
       "                 1    32950764\n",
       "                 2    34315157\n",
       "1991 W140000WOVN 0    68657380\n",
       "                 1    33659775\n",
       "                 2    34997605\n",
       "1992 W140000WOVN 0    70014147"
      ]
     },
     "execution_count": 14,
     "metadata": {},
     "output_type": "execute_result"
    }
   ],
   "source": [
    "# Filter for only Vietnam in the observations\n",
    "idbsingleyear_vn = idbsingleyear[idbsingleyear['GEO_ID'] == 'W140000WOVN']\n",
    "\n",
    "# Adding up the populations across age groups\n",
    "idbsingleyear_vn = idbsingleyear_vn.groupby(['#YR', 'GEO_ID', 'SEX']).sum()\n",
    "\n",
    "# Only display the population column, not the total age column\n",
    "idbsingleyear_vn = idbsingleyear_vn[['POP']]\n",
    "\n",
    "idbsingleyear_vn.head(10)"
   ]
  },
  {
   "cell_type": "code",
   "execution_count": 15,
   "id": "4f53c9ed",
   "metadata": {},
   "outputs": [
    {
     "data": {
      "text/plain": [
       "<seaborn.axisgrid.FacetGrid at 0x20f505160d0>"
      ]
     },
     "execution_count": 15,
     "metadata": {},
     "output_type": "execute_result"
    },
    {
     "data": {
      "image/png": "[encoded data removed]",
      "text/plain": [
       "<Figure size 1000x500 with 1 Axes>"
      ]
     },
     "metadata": {},
     "output_type": "display_data"
    }
   ],
   "source": [
    "# A line plot showing change of population over time, filtered for both sexes\n",
    "\n",
    "# Filter for both sexes (SEX = 0)\n",
    "idbsingleyear_vn_reset = idbsingleyear_vn.reset_index(drop = False, inplace = False)\n",
    "idbsingleyear_vn_0 = idbsingleyear_vn_reset[idbsingleyear_vn_reset['SEX'] == 0]\n",
    "\n",
    "sns.relplot(data = idbsingleyear_vn_0, x = '#YR', y = 'POP', kind = 'line', errorbar = None, aspect = 2)"
   ]
  },
  {
   "cell_type": "code",
   "execution_count": 16,
   "id": "4693b72a",
   "metadata": {},
   "outputs": [
    {
     "data": {
      "text/html": [
       "<div>\n",
       "<style scoped>\n",
       "    .dataframe tbody tr th:only-of-type {\n",
       "        vertical-align: middle;\n",
       "    }\n",
       "\n",
       "    .dataframe tbody tr th {\n",
       "        vertical-align: top;\n",
       "    }\n",
       "\n",
       "    .dataframe thead th {\n",
       "        text-align: right;\n",
       "    }\n",
       "</style>\n",
       "<table border=\"1\" class=\"dataframe\">\n",
       "  <thead>\n",
       "    <tr style=\"text-align: right;\">\n",
       "      <th></th>\n",
       "      <th>#YR</th>\n",
       "      <th>GEO_ID</th>\n",
       "      <th>SEX_sex</th>\n",
       "      <th>POP_sex</th>\n",
       "      <th>SEX_total</th>\n",
       "      <th>POP_total</th>\n",
       "      <th>proportion</th>\n",
       "    </tr>\n",
       "  </thead>\n",
       "  <tbody>\n",
       "    <tr>\n",
       "      <th>0</th>\n",
       "      <td>1989</td>\n",
       "      <td>W140000WOVN</td>\n",
       "      <td>1</td>\n",
       "      <td>32240059</td>\n",
       "      <td>0</td>\n",
       "      <td>65868481</td>\n",
       "      <td>0.489461</td>\n",
       "    </tr>\n",
       "    <tr>\n",
       "      <th>1</th>\n",
       "      <td>1989</td>\n",
       "      <td>W140000WOVN</td>\n",
       "      <td>2</td>\n",
       "      <td>33628422</td>\n",
       "      <td>0</td>\n",
       "      <td>65868481</td>\n",
       "      <td>0.510539</td>\n",
       "    </tr>\n",
       "    <tr>\n",
       "      <th>2</th>\n",
       "      <td>1990</td>\n",
       "      <td>W140000WOVN</td>\n",
       "      <td>1</td>\n",
       "      <td>32950764</td>\n",
       "      <td>0</td>\n",
       "      <td>67265921</td>\n",
       "      <td>0.489858</td>\n",
       "    </tr>\n",
       "    <tr>\n",
       "      <th>3</th>\n",
       "      <td>1990</td>\n",
       "      <td>W140000WOVN</td>\n",
       "      <td>2</td>\n",
       "      <td>34315157</td>\n",
       "      <td>0</td>\n",
       "      <td>67265921</td>\n",
       "      <td>0.510142</td>\n",
       "    </tr>\n",
       "    <tr>\n",
       "      <th>4</th>\n",
       "      <td>1991</td>\n",
       "      <td>W140000WOVN</td>\n",
       "      <td>1</td>\n",
       "      <td>33659775</td>\n",
       "      <td>0</td>\n",
       "      <td>68657380</td>\n",
       "      <td>0.490257</td>\n",
       "    </tr>\n",
       "    <tr>\n",
       "      <th>5</th>\n",
       "      <td>1991</td>\n",
       "      <td>W140000WOVN</td>\n",
       "      <td>2</td>\n",
       "      <td>34997605</td>\n",
       "      <td>0</td>\n",
       "      <td>68657380</td>\n",
       "      <td>0.509743</td>\n",
       "    </tr>\n",
       "    <tr>\n",
       "      <th>6</th>\n",
       "      <td>1992</td>\n",
       "      <td>W140000WOVN</td>\n",
       "      <td>1</td>\n",
       "      <td>34350663</td>\n",
       "      <td>0</td>\n",
       "      <td>70014147</td>\n",
       "      <td>0.490625</td>\n",
       "    </tr>\n",
       "    <tr>\n",
       "      <th>7</th>\n",
       "      <td>1992</td>\n",
       "      <td>W140000WOVN</td>\n",
       "      <td>2</td>\n",
       "      <td>35663484</td>\n",
       "      <td>0</td>\n",
       "      <td>70014147</td>\n",
       "      <td>0.509375</td>\n",
       "    </tr>\n",
       "    <tr>\n",
       "      <th>8</th>\n",
       "      <td>1993</td>\n",
       "      <td>W140000WOVN</td>\n",
       "      <td>1</td>\n",
       "      <td>35026031</td>\n",
       "      <td>0</td>\n",
       "      <td>71338776</td>\n",
       "      <td>0.490982</td>\n",
       "    </tr>\n",
       "    <tr>\n",
       "      <th>9</th>\n",
       "      <td>1993</td>\n",
       "      <td>W140000WOVN</td>\n",
       "      <td>2</td>\n",
       "      <td>36312745</td>\n",
       "      <td>0</td>\n",
       "      <td>71338776</td>\n",
       "      <td>0.509018</td>\n",
       "    </tr>\n",
       "  </tbody>\n",
       "</table>\n",
       "</div>"
      ],
      "text/plain": [
       "    #YR       GEO_ID  SEX_sex   POP_sex  SEX_total  POP_total  proportion\n",
       "0  1989  W140000WOVN        1  32240059          0   65868481    0.489461\n",
       "1  1989  W140000WOVN        2  33628422          0   65868481    0.510539\n",
       "2  1990  W140000WOVN        1  32950764          0   67265921    0.489858\n",
       "3  1990  W140000WOVN        2  34315157          0   67265921    0.510142\n",
       "4  1991  W140000WOVN        1  33659775          0   68657380    0.490257\n",
       "5  1991  W140000WOVN        2  34997605          0   68657380    0.509743\n",
       "6  1992  W140000WOVN        1  34350663          0   70014147    0.490625\n",
       "7  1992  W140000WOVN        2  35663484          0   70014147    0.509375\n",
       "8  1993  W140000WOVN        1  35026031          0   71338776    0.490982\n",
       "9  1993  W140000WOVN        2  36312745          0   71338776    0.509018"
      ]
     },
     "execution_count": 16,
     "metadata": {},
     "output_type": "execute_result"
    }
   ],
   "source": [
    "# Changes in proportion of two sexes in the population (I may plot a graph soon)\n",
    "idbsingleyear_vn_sexes = idbsingleyear_vn_reset[idbsingleyear_vn_reset['SEX'] != 0]\n",
    "idbsingleyear_vn_sexes_merged = idbsingleyear_vn_sexes.merge(idbsingleyear_vn_0, on = ['#YR', 'GEO_ID'], suffixes = ('_sex', '_total'))\n",
    "idbsingleyear_vn_sexes_merged['proportion'] = idbsingleyear_vn_sexes_merged['POP_sex'] / idbsingleyear_vn_sexes_merged['POP_total']\n",
    "idbsingleyear_vn_sexes_merged.head(10)"
   ]
  }
 ],
 "metadata": {
  "kernelspec": {
   "display_name": "Python 3",
   "language": "python",
   "name": "python3"
  },
  "language_info": {
   "codemirror_mode": {
    "name": "ipython",
    "version": 3
   },
   "file_extension": ".py",
   "mimetype": "text/x-python",
   "name": "python",
   "nbconvert_exporter": "python",
   "pygments_lexer": "ipython3",
   "version": "3.13.1"
  }
 },
 "nbformat": 4,
 "nbformat_minor": 5
}
