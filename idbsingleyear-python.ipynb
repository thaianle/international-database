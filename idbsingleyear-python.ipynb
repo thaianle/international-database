{
 "cells": [
  {
   "cell_type": "markdown",
   "id": "c97e4568-d56e-4662-8839-c0a54f74a2a9",
   "metadata": {},
   "source": [
    "# Data Analysis Project with Python\n",
    "\n",
    "# International Database (United States Census Bureau)"
   ]
  },
  {
   "cell_type": "code",
   "execution_count": 1,
   "id": "e8911f83-144f-478d-95a6-3889fb2834bb",
   "metadata": {},
   "outputs": [],
   "source": [
    "# Import the necessary libraries\n",
    "import numpy as np\n",
    "import pandas as pd\n",
    "import matplotlib as plt\n",
    "import seaborn as sns"
   ]
  },
  {
   "cell_type": "markdown",
   "id": "6822a1ff-00b3-495f-bdee-17ccc0d60831",
   "metadata": {},
   "source": [
    "## Exploring the IDB Single Year database"
   ]
  },
  {
   "cell_type": "markdown",
   "id": "0eb6edc0-6e71-41dd-a285-bf43ce1e3ef8",
   "metadata": {},
   "source": [
    "Variable descriptions: https://api.census.gov/data/timeseries/idb/1year/variables.html"
   ]
  },
  {
   "cell_type": "code",
   "execution_count": 2,
   "id": "3129b8ae-503a-4cc9-be93-ee4d01be10f0",
   "metadata": {},
   "outputs": [
    {
     "data": {
      "text/html": [
       "<div>\n",
       "<style scoped>\n",
       "    .dataframe tbody tr th:only-of-type {\n",
       "        vertical-align: middle;\n",
       "    }\n",
       "\n",
       "    .dataframe tbody tr th {\n",
       "        vertical-align: top;\n",
       "    }\n",
       "\n",
       "    .dataframe thead th {\n",
       "        text-align: right;\n",
       "    }\n",
       "</style>\n",
       "<table border=\"1\" class=\"dataframe\">\n",
       "  <thead>\n",
       "    <tr style=\"text-align: right;\">\n",
       "      <th></th>\n",
       "      <th>#YR</th>\n",
       "      <th>GEO_ID</th>\n",
       "      <th>AGE</th>\n",
       "      <th>SEX</th>\n",
       "      <th>POP</th>\n",
       "    </tr>\n",
       "  </thead>\n",
       "  <tbody>\n",
       "    <tr>\n",
       "      <th>0</th>\n",
       "      <td>1990</td>\n",
       "      <td>W140000WOAD</td>\n",
       "      <td>0</td>\n",
       "      <td>0</td>\n",
       "      <td>504</td>\n",
       "    </tr>\n",
       "    <tr>\n",
       "      <th>1</th>\n",
       "      <td>1990</td>\n",
       "      <td>W140000WOAD</td>\n",
       "      <td>0</td>\n",
       "      <td>1</td>\n",
       "      <td>264</td>\n",
       "    </tr>\n",
       "    <tr>\n",
       "      <th>2</th>\n",
       "      <td>1990</td>\n",
       "      <td>W140000WOAD</td>\n",
       "      <td>0</td>\n",
       "      <td>2</td>\n",
       "      <td>240</td>\n",
       "    </tr>\n",
       "    <tr>\n",
       "      <th>3</th>\n",
       "      <td>1990</td>\n",
       "      <td>W140000WOAD</td>\n",
       "      <td>1</td>\n",
       "      <td>0</td>\n",
       "      <td>550</td>\n",
       "    </tr>\n",
       "    <tr>\n",
       "      <th>4</th>\n",
       "      <td>1990</td>\n",
       "      <td>W140000WOAD</td>\n",
       "      <td>1</td>\n",
       "      <td>1</td>\n",
       "      <td>279</td>\n",
       "    </tr>\n",
       "    <tr>\n",
       "      <th>5</th>\n",
       "      <td>1990</td>\n",
       "      <td>W140000WOAD</td>\n",
       "      <td>1</td>\n",
       "      <td>2</td>\n",
       "      <td>271</td>\n",
       "    </tr>\n",
       "    <tr>\n",
       "      <th>6</th>\n",
       "      <td>1990</td>\n",
       "      <td>W140000WOAD</td>\n",
       "      <td>2</td>\n",
       "      <td>0</td>\n",
       "      <td>489</td>\n",
       "    </tr>\n",
       "    <tr>\n",
       "      <th>7</th>\n",
       "      <td>1990</td>\n",
       "      <td>W140000WOAD</td>\n",
       "      <td>2</td>\n",
       "      <td>1</td>\n",
       "      <td>260</td>\n",
       "    </tr>\n",
       "    <tr>\n",
       "      <th>8</th>\n",
       "      <td>1990</td>\n",
       "      <td>W140000WOAD</td>\n",
       "      <td>2</td>\n",
       "      <td>2</td>\n",
       "      <td>229</td>\n",
       "    </tr>\n",
       "    <tr>\n",
       "      <th>9</th>\n",
       "      <td>1990</td>\n",
       "      <td>W140000WOAD</td>\n",
       "      <td>3</td>\n",
       "      <td>0</td>\n",
       "      <td>515</td>\n",
       "    </tr>\n",
       "  </tbody>\n",
       "</table>\n",
       "</div>"
      ],
      "text/plain": [
       "    #YR       GEO_ID  AGE  SEX  POP\n",
       "0  1990  W140000WOAD    0    0  504\n",
       "1  1990  W140000WOAD    0    1  264\n",
       "2  1990  W140000WOAD    0    2  240\n",
       "3  1990  W140000WOAD    1    0  550\n",
       "4  1990  W140000WOAD    1    1  279\n",
       "5  1990  W140000WOAD    1    2  271\n",
       "6  1990  W140000WOAD    2    0  489\n",
       "7  1990  W140000WOAD    2    1  260\n",
       "8  1990  W140000WOAD    2    2  229\n",
       "9  1990  W140000WOAD    3    0  515"
      ]
     },
     "execution_count": 2,
     "metadata": {},
     "output_type": "execute_result"
    }
   ],
   "source": [
    "idbsingleyear = pd.read_table(\"idbzip/idbsingleyear.txt\", delimiter=\"|\")\n",
    "idbsingleyear.head(10)"
   ]
  },
  {
   "cell_type": "code",
   "execution_count": 3,
   "id": "ddc74d73-99d2-48db-9bf2-ec0631b0d860",
   "metadata": {},
   "outputs": [
    {
     "data": {
      "text/plain": [
       "(7923753, 5)"
      ]
     },
     "execution_count": 3,
     "metadata": {},
     "output_type": "execute_result"
    }
   ],
   "source": [
    "# Dimensions (number of rows and columns)\n",
    "idbsingleyear.shape"
   ]
  },
  {
   "cell_type": "code",
   "execution_count": 4,
   "id": "69831b9a-468f-4f11-a476-78837f8a0cc5",
   "metadata": {},
   "outputs": [
    {
     "name": "stdout",
     "output_type": "stream",
     "text": [
      "<class 'pandas.core.frame.DataFrame'>\n",
      "RangeIndex: 7923753 entries, 0 to 7923752\n",
      "Data columns (total 5 columns):\n",
      " #   Column  Dtype \n",
      "---  ------  ----- \n",
      " 0   #YR     int64 \n",
      " 1   GEO_ID  object\n",
      " 2   AGE     int64 \n",
      " 3   SEX     int64 \n",
      " 4   POP     int64 \n",
      "dtypes: int64(4), object(1)\n",
      "memory usage: 302.3+ MB\n"
     ]
    }
   ],
   "source": [
    "# Check for data types and other essential information\n",
    "idbsingleyear.info()"
   ]
  },
  {
   "cell_type": "code",
   "execution_count": 5,
   "id": "18bb1525-635d-46f5-b4b5-ba770e6a20f1",
   "metadata": {},
   "outputs": [
    {
     "data": {
      "text/html": [
       "<div>\n",
       "<style scoped>\n",
       "    .dataframe tbody tr th:only-of-type {\n",
       "        vertical-align: middle;\n",
       "    }\n",
       "\n",
       "    .dataframe tbody tr th {\n",
       "        vertical-align: top;\n",
       "    }\n",
       "\n",
       "    .dataframe thead th {\n",
       "        text-align: right;\n",
       "    }\n",
       "</style>\n",
       "<table border=\"1\" class=\"dataframe\">\n",
       "  <thead>\n",
       "    <tr style=\"text-align: right;\">\n",
       "      <th></th>\n",
       "      <th>#YR</th>\n",
       "      <th>AGE</th>\n",
       "      <th>SEX</th>\n",
       "      <th>POP</th>\n",
       "    </tr>\n",
       "  </thead>\n",
       "  <tbody>\n",
       "    <tr>\n",
       "      <th>count</th>\n",
       "      <td>7.923753e+06</td>\n",
       "      <td>7.923753e+06</td>\n",
       "      <td>7.923753e+06</td>\n",
       "      <td>7.923753e+06</td>\n",
       "    </tr>\n",
       "    <tr>\n",
       "      <th>mean</th>\n",
       "      <td>2.042538e+03</td>\n",
       "      <td>5.000000e+01</td>\n",
       "      <td>1.000000e+00</td>\n",
       "      <td>2.526350e+05</td>\n",
       "    </tr>\n",
       "    <tr>\n",
       "      <th>std</th>\n",
       "      <td>3.389533e+01</td>\n",
       "      <td>2.915476e+01</td>\n",
       "      <td>8.164966e-01</td>\n",
       "      <td>1.087511e+06</td>\n",
       "    </tr>\n",
       "    <tr>\n",
       "      <th>min</th>\n",
       "      <td>1.950000e+03</td>\n",
       "      <td>0.000000e+00</td>\n",
       "      <td>0.000000e+00</td>\n",
       "      <td>0.000000e+00</td>\n",
       "    </tr>\n",
       "    <tr>\n",
       "      <th>25%</th>\n",
       "      <td>2.014000e+03</td>\n",
       "      <td>2.500000e+01</td>\n",
       "      <td>0.000000e+00</td>\n",
       "      <td>1.469000e+03</td>\n",
       "    </tr>\n",
       "    <tr>\n",
       "      <th>50%</th>\n",
       "      <td>2.043000e+03</td>\n",
       "      <td>5.000000e+01</td>\n",
       "      <td>1.000000e+00</td>\n",
       "      <td>2.403200e+04</td>\n",
       "    </tr>\n",
       "    <tr>\n",
       "      <th>75%</th>\n",
       "      <td>2.072000e+03</td>\n",
       "      <td>7.500000e+01</td>\n",
       "      <td>2.000000e+00</td>\n",
       "      <td>1.342220e+05</td>\n",
       "    </tr>\n",
       "    <tr>\n",
       "      <th>max</th>\n",
       "      <td>2.100000e+03</td>\n",
       "      <td>1.000000e+02</td>\n",
       "      <td>2.000000e+00</td>\n",
       "      <td>3.063062e+07</td>\n",
       "    </tr>\n",
       "  </tbody>\n",
       "</table>\n",
       "</div>"
      ],
      "text/plain": [
       "                #YR           AGE           SEX           POP\n",
       "count  7.923753e+06  7.923753e+06  7.923753e+06  7.923753e+06\n",
       "mean   2.042538e+03  5.000000e+01  1.000000e+00  2.526350e+05\n",
       "std    3.389533e+01  2.915476e+01  8.164966e-01  1.087511e+06\n",
       "min    1.950000e+03  0.000000e+00  0.000000e+00  0.000000e+00\n",
       "25%    2.014000e+03  2.500000e+01  0.000000e+00  1.469000e+03\n",
       "50%    2.043000e+03  5.000000e+01  1.000000e+00  2.403200e+04\n",
       "75%    2.072000e+03  7.500000e+01  2.000000e+00  1.342220e+05\n",
       "max    2.100000e+03  1.000000e+02  2.000000e+00  3.063062e+07"
      ]
     },
     "execution_count": 5,
     "metadata": {},
     "output_type": "execute_result"
    }
   ],
   "source": [
    "# Describe the numerical columns\n",
    "idbsingleyear.describe()"
   ]
  },
  {
   "cell_type": "code",
   "execution_count": 6,
   "id": "eb02e462-fb93-49c2-86d0-78ef34496ca7",
   "metadata": {},
   "outputs": [
    {
     "name": "stdout",
     "output_type": "stream",
     "text": [
      "Number of unique values in the column #YR is: 151\n",
      "Number of NaN values in the column #YR is: 0\n",
      "\n",
      "Number of unique values in the column GEO_ID is: 227\n",
      "Number of NaN values in the column GEO_ID is: 0\n",
      "\n",
      "Number of unique values in the column AGE is: 101\n",
      "Number of NaN values in the column AGE is: 0\n",
      "\n",
      "Number of unique values in the column SEX is: 3\n",
      "Number of NaN values in the column SEX is: 0\n",
      "\n",
      "Number of unique values in the column POP is: 1095125\n",
      "Number of NaN values in the column POP is: 0\n",
      "\n"
     ]
    }
   ],
   "source": [
    "# Count the number of unique values in a column\n",
    "for col in idbsingleyear:\n",
    "    print(f'Number of unique values in the column {col} is: {idbsingleyear[col].nunique()}')\n",
    "    print(f'Number of NaN values in the column {col} is: {idbsingleyear[col].isna().sum()}')\n",
    "    print('')"
   ]
  },
  {
   "cell_type": "code",
   "execution_count": 7,
   "id": "d269bd92-0e38-45f0-90c4-65f8d112ad39",
   "metadata": {},
   "outputs": [
    {
     "data": {
      "text/plain": [
       "array(['W140000WOAD', 'W140000WOAE', 'W140000WOAF', 'W140000WOAG',\n",
       "       'W140000WOAI', 'W140000WOAL', 'W140000WOAM', 'W140000WOAO',\n",
       "       'W140000WOAR', 'W140000WOAS', 'W140000WOAT', 'W140000WOAU',\n",
       "       'W140000WOAW', 'W140000WOAZ', 'W140000WOBA', 'W140000WOBB',\n",
       "       'W140000WOBD', 'W140000WOBE', 'W140000WOBF', 'W140000WOBG'],\n",
       "      dtype=object)"
      ]
     },
     "execution_count": 7,
     "metadata": {},
     "output_type": "execute_result"
    }
   ],
   "source": [
    "# Show the first 20 unique values of the GEO_ID\n",
    "idbsingleyear['GEO_ID'].unique()[:20]"
   ]
  },
  {
   "cell_type": "markdown",
   "id": "d10fcba3-fe56-4260-b64a-138ddf04c1bc",
   "metadata": {},
   "source": [
    "It seems like the GEO_IDs are quite similar; most of them starting with 'W140000WO' and then two distinctive letters.\n",
    "\n",
    "After doing outside research, I think the two distinctive letters are the two-letter country codes listed in this website: https://www.census.gov/programs-surveys/international-programs/about/idb/countries-and-areas.html"
   ]
  },
  {
   "cell_type": "code",
   "execution_count": 8,
   "id": "036ca7a1-ab46-485b-abfa-9e5f5a30658f",
   "metadata": {},
   "outputs": [
    {
     "name": "stdout",
     "output_type": "stream",
     "text": [
      "True\n"
     ]
    }
   ],
   "source": [
    "# Check if every GEO_ID starts with 'W140000WO':\n",
    "for row in idbsingleyear['GEO_ID']:\n",
    "    if (not row.startswith('W140000WO')):\n",
    "        result = False\n",
    "        break\n",
    "    else:\n",
    "        result = True\n",
    "print(result)"
   ]
  },
  {
   "cell_type": "markdown",
   "id": "308e252a-1007-4bbd-b267-4dad2656962d",
   "metadata": {},
   "source": [
    "After checking all elements in the GEO_ID column with Python, my intuition is actually true."
   ]
  }
 ],
 "metadata": {
  "kernelspec": {
   "display_name": "Python 3 (ipykernel)",
   "language": "python",
   "name": "python3"
  },
  "language_info": {
   "codemirror_mode": {
    "name": "ipython",
    "version": 3
   },
   "file_extension": ".py",
   "mimetype": "text/x-python",
   "name": "python",
   "nbconvert_exporter": "python",
   "pygments_lexer": "ipython3",
   "version": "3.13.1"
  }
 },
 "nbformat": 4,
 "nbformat_minor": 5
}
